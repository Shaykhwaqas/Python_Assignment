{
 "cells": [
  {
   "cell_type": "code",
   "execution_count": 1,
   "metadata": {},
   "outputs": [
    {
     "name": "stdout",
     "output_type": "stream",
     "text": [
      "Q#1\n",
      "Twinkle, twinkle, little star, \n",
      "\tHow I wonder what you are! \n",
      "\t\tUp above the world so high, \n",
      "\t\tLike a diamond in the sky. \n",
      "Twinkle, twinkle, little star, \n",
      "\tHow I wonder what you are!\n"
     ]
    }
   ],
   "source": [
    "print(\"Q#1\")\n",
    "\n",
    "print(\"Twinkle, twinkle, little star, \\n\\tHow I wonder what you are! \\n\\t\\tUp above the world so high, \\n\\t\\tLike a diamond in the sky. \\nTwinkle, twinkle, little star, \\n\\tHow I wonder what you are!\")"
   ]
  },
  {
   "cell_type": "code",
   "execution_count": 2,
   "metadata": {},
   "outputs": [
    {
     "name": "stdout",
     "output_type": "stream",
     "text": [
      "Q#2\n",
      "Python version currently in use is: \n",
      " 3.7.4 (default, Aug  9 2019, 18:34:13) [MSC v.1915 64 bit (AMD64)]\n",
      "Python version info currently in use is: \n",
      " sys.version_info(major=3, minor=7, micro=4, releaselevel='final', serial=0)\n"
     ]
    }
   ],
   "source": [
    "print(\"Q#2\")\n",
    "\n",
    "import sys\n",
    "print(\"Python version currently in use is: \\n\",sys.version)\n",
    "print(\"Python version info currently in use is: \\n\", sys.version_info)"
   ]
  },
  {
   "cell_type": "code",
   "execution_count": 3,
   "metadata": {},
   "outputs": [
    {
     "name": "stdout",
     "output_type": "stream",
     "text": [
      "Q#3\n",
      "date and time = 22/11/2019 20:33:16\n"
     ]
    }
   ],
   "source": [
    "print(\"Q#3\")\n",
    "\n",
    "from datetime import datetime\n",
    "\n",
    "now = datetime.now()\n",
    " \n",
    "dt_string = now.strftime(\"%d/%m/%Y %H:%M:%S\")\n",
    "print(\"date and time =\", dt_string)\t"
   ]
  },
  {
   "cell_type": "code",
   "execution_count": 4,
   "metadata": {},
   "outputs": [
    {
     "name": "stdout",
     "output_type": "stream",
     "text": [
      "Q#4\n",
      "Enter the radius of the circle :2.5\n",
      "Area of the circle is : 19.63\n"
     ]
    }
   ],
   "source": [
    "print(\"Q#4\")\n",
    "\n",
    "import math\n",
    "r = float(input('Enter the radius of the circle :'))\n",
    "area = math.pi * r * r\n",
    "print(\"Area of the circle is : %.2f\" %area)"
   ]
  },
  {
   "cell_type": "code",
   "execution_count": 5,
   "metadata": {},
   "outputs": [
    {
     "name": "stdout",
     "output_type": "stream",
     "text": [
      "Q#5\n",
      "Your first name here: Shahmir\n",
      "Your last name here: Ali\n",
      "rimhahS ilA\n"
     ]
    }
   ],
   "source": [
    "print(\"Q#5\")\n",
    "\n",
    "f_name = input(\"Your first name here: \")\n",
    "l_name = input(\"Your last name here: \"\n",
    ")\n",
    "str = f_name.capitalize() \n",
    "reversed_f=''.join(reversed(str))\n",
    "str = l_name.capitalize() \n",
    "reversed_l=''.join(reversed(str))\n",
    "print(reversed_f+\" \"+reversed_l)"
   ]
  },
  {
   "cell_type": "code",
   "execution_count": 6,
   "metadata": {},
   "outputs": [
    {
     "name": "stdout",
     "output_type": "stream",
     "text": [
      "Q#6\n",
      "First input here: 1\n",
      "Second input here: 2\n",
      "3\n"
     ]
    }
   ],
   "source": [
    "print(\"Q#6\")\n",
    "\n",
    "f_input = int(input(\"First input here: \"))\n",
    "s_input = int(input(\"Second input here: \"))\n",
    "\n",
    "print(f_input+s_input)"
   ]
  },
  {
   "cell_type": "code",
   "execution_count": null,
   "metadata": {},
   "outputs": [],
   "source": []
  }
 ],
 "metadata": {
  "kernelspec": {
   "display_name": "Python 3",
   "language": "python",
   "name": "python3"
  },
  "language_info": {
   "codemirror_mode": {
    "name": "ipython",
    "version": 3
   },
   "file_extension": ".py",
   "mimetype": "text/x-python",
   "name": "python",
   "nbconvert_exporter": "python",
   "pygments_lexer": "ipython3",
   "version": "3.7.4"
  }
 },
 "nbformat": 4,
 "nbformat_minor": 2
}
