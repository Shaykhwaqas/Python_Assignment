{
 "cells": [
  {
   "cell_type": "code",
   "execution_count": 1,
   "metadata": {},
   "outputs": [
    {
     "name": "stdout",
     "output_type": "stream",
     "text": [
      "Q#1\n",
      "Enter marks of the first subject: 12\n",
      "Enter marks of the second subject: 34\n",
      "Enter marks of the third subject: 5\n",
      "Enter marks of the fourth subject: 64\n",
      "Enter marks of the fifth subject: 32\n",
      "Grade: B\n"
     ]
    }
   ],
   "source": [
    "print(\"Q#1\")\n",
    "\n",
    "sub1=int(input(\"Enter marks of the first subject: \"))\n",
    "sub2=int(input(\"Enter marks of the second subject: \"))\n",
    "sub3=int(input(\"Enter marks of the third subject: \"))\n",
    "sub4=int(input(\"Enter marks of the fourth subject: \"))\n",
    "sub5=int(input(\"Enter marks of the fifth subject: \"))\n",
    "avg=int((sub1+sub2+sub3+sub4+sub4)/5)\n",
    "if(avg>=90):\n",
    "    print(\"Grade: A\")\n",
    "elif(avg >= 80 & avg<90):\n",
    "    print(\"Grade: B\")\n",
    "elif(avg >= 70 & avg < 80):\n",
    "    print(\"Grade: C\")\n",
    "elif(avg >= 60 & avg < 70):\n",
    "    print(\"Grade: D\")\n",
    "else:\n",
    "    print(\"Grade: F\")\n"
   ]
  },
  {
   "cell_type": "code",
   "execution_count": 2,
   "metadata": {},
   "outputs": [
    {
     "name": "stdout",
     "output_type": "stream",
     "text": [
      "Q#2\n",
      "Enter a number here, we will tell you either it is odd or even...\n",
      "67\n",
      "The number you inserted is a odd number.\n"
     ]
    }
   ],
   "source": [
    "print(\"Q#2\")\n",
    "\n",
    "number = int(input(\"Enter a number here, we will tell you either it is odd or even...\\n\"))\n",
    "if number%2 == 0:\n",
    "    print(\"The number you inserted is an even number.\")\n",
    "else:\n",
    "    print(\"The number you inserted is an odd number.\")\n",
    "\n",
    "\n"
   ]
  },
  {
   "cell_type": "code",
   "execution_count": 4,
   "metadata": {},
   "outputs": [
    {
     "name": "stdout",
     "output_type": "stream",
     "text": [
      "Q#3\n",
      "The length of the list is 8\n"
     ]
    }
   ],
   "source": [
    "print(\"Q#3\")\n",
    "\n",
    "List = {1,2,3,4,5,5,6,6,7,9}\n",
    "print(\"The length of the list is \" + str(len(List)))\n"
   ]
  },
  {
   "cell_type": "code",
   "execution_count": 5,
   "metadata": {},
   "outputs": [
    {
     "name": "stdout",
     "output_type": "stream",
     "text": [
      "Q#4\n",
      "The sum of the list is:  37\n"
     ]
    }
   ],
   "source": [
    "print(\"Q#4\")\n",
    "\n",
    "List = {1,2,3,4,5,5,6,6,7,9}\n",
    "print(\"The sum of the list is: \", sum(List))\n"
   ]
  },
  {
   "cell_type": "code",
   "execution_count": 6,
   "metadata": {},
   "outputs": [
    {
     "name": "stdout",
     "output_type": "stream",
     "text": [
      "Q#5\n",
      "The largest number in the list is:  9\n"
     ]
    }
   ],
   "source": [
    "print(\"Q#5\")\n",
    "\n",
    "List = {1,2,3,4,5,5,6,6,7,9}\n",
    "print(\"The largest number in the list is: \", max(List))\n"
   ]
  },
  {
   "cell_type": "code",
   "execution_count": 7,
   "metadata": {},
   "outputs": [
    {
     "name": "stdout",
     "output_type": "stream",
     "text": [
      "Q#6\n",
      "1\n",
      "1\n",
      "2\n",
      "3\n"
     ]
    }
   ],
   "source": [
    "print(\"Q#6\")\n",
    "\n",
    "a = [1, 1, 2, 3, 5, 8, 13, 21, 34, 55, 89]\n",
    "for i in a:\n",
    "    if i>=5:\n",
    "        break\n",
    "    print(i)\n"
   ]
  },
  {
   "cell_type": "code",
   "execution_count": null,
   "metadata": {},
   "outputs": [],
   "source": []
  }
 ],
 "metadata": {
  "kernelspec": {
   "display_name": "Python 3",
   "language": "python",
   "name": "python3"
  },
  "language_info": {
   "codemirror_mode": {
    "name": "ipython",
    "version": 3
   },
   "file_extension": ".py",
   "mimetype": "text/x-python",
   "name": "python",
   "nbconvert_exporter": "python",
   "pygments_lexer": "ipython3",
   "version": "3.7.4"
  }
 },
 "nbformat": 4,
 "nbformat_minor": 2
}
