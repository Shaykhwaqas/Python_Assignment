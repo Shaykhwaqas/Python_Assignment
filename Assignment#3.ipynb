{
 "cells": [
  {
   "cell_type": "code",
   "execution_count": 1,
   "metadata": {},
   "outputs": [
    {
     "name": "stdout",
     "output_type": "stream",
     "text": [
      "Q#1\n",
      "Enter your values like: 1+2+3-4-5/6*7**2 \n",
      "Calculation is not in the format of BODMAS rule, calculation follows step by step procedure \n",
      "=>1+2+3-4/5*5-5/6*7**2\n",
      "12.25\n"
     ]
    }
   ],
   "source": [
    "print(\"Q#1\")\n",
    "\n",
    "x=(input(\"Enter your values like: 1+2+3-4-5/6*7**2 \\nCalculation is not in the format of BODMAS rule, calculation follows step by step procedure \\n=>\"))\n",
    "list_=[]\n",
    "for i in x:\n",
    "    list_.append(i)\n",
    "\n",
    "result = int(list_[0]) \n",
    "answer = 0\n",
    "for i in range(len(list_)):\n",
    "    if (list_[i] == \"+\") or (list_[i] == \"-\") or (list_[i] == \"*\" ) or (list_[i] == \"/\" ):\n",
    "        if (list_[i] == \"+\" ):\n",
    "             result = result + int(list_[i+1])\n",
    "        elif (list_[i] == \"-\" ):\n",
    "             result = result - int(list_[i+1])\n",
    "        elif (list_[i] == \"/\" ):\n",
    "             result = result / int(list_[i+1])\n",
    "        elif (list_[i] == \"*\" and list_[i+1] != \"*\" and list_[i-1] != \"*\"):\n",
    "            result = result * int(list_[i+1])\n",
    "        elif (list_[i] == \"*\" and list_[i+1] == \"*\"):\n",
    "            result = result ** (int(list_[i+2]))\n",
    "\n",
    "            \n",
    "print(result)\n",
    "\n",
    "\n",
    "    \n",
    "    "
   ]
  },
  {
   "cell_type": "code",
   "execution_count": 2,
   "metadata": {},
   "outputs": [
    {
     "name": "stdout",
     "output_type": "stream",
     "text": [
      "Q#2\n",
      "The list contains a numeric value\n"
     ]
    }
   ],
   "source": [
    "print(\"Q#2\")\n",
    "\n",
    "list1 = [1,2,3.4,\"x\",\"hello\"]\n",
    "\n",
    "\n",
    "bool1 = False\n",
    "for i in list1:\n",
    "    if type(i) is not str:\n",
    "        bool1 = True\n",
    "if bool1 == True:\n",
    "    print(\"The list contains a numeric value\")"
   ]
  },
  {
   "cell_type": "code",
   "execution_count": 3,
   "metadata": {},
   "outputs": [
    {
     "name": "stdout",
     "output_type": "stream",
     "text": [
      "Q#3\n",
      "Current Dict is:  {'key1': 'python', 'key2': 'course'}\n",
      "Updated Dict is:  {'key1': 'python', 'key2': 'course', 'key3': 'for', 'key4': 'Cisco'}\n"
     ]
    }
   ],
   "source": [
    "print(\"Q#3\")\n",
    "\n",
    "dict1 = {'key1':'python', 'key2':'course'} \n",
    "print(\"Current Dict is: \", dict1) \n",
    "  \n",
    "\n",
    "dict1.update({'key3':'for','key4':'Cisco'}) \n",
    "print(\"Updated Dict is: \", dict1) \n",
    "  "
   ]
  },
  {
   "cell_type": "code",
   "execution_count": 4,
   "metadata": {},
   "outputs": [
    {
     "name": "stdout",
     "output_type": "stream",
     "text": [
      "Q#4\n",
      "15.6\n"
     ]
    }
   ],
   "source": [
    "print(\"Q#4\")\n",
    "\n",
    "dict1 = {'key1':1.1,'key2':2,'key3':3,'key4':4.5,'key5':5}\n",
    "\n",
    "print(sum(dict1.values()))"
   ]
  },
  {
   "cell_type": "code",
   "execution_count": 5,
   "metadata": {},
   "outputs": [
    {
     "name": "stdout",
     "output_type": "stream",
     "text": [
      "Q#5\n",
      "[1, 2, 18, 20, 100]\n"
     ]
    }
   ],
   "source": [
    "print(\"Q#5\")\n",
    "\n",
    "list1 = [1,10,2,5,2,8,9,4,1,18,100,20,56,65,18,20,100]\n",
    "list2 = []\n",
    "list1.sort()\n",
    "for i in range(0,(int(len(list1))-1)):\n",
    "    if list1[i] == list1[i+1]:\n",
    "        list2.append(list1[i])\n",
    "print(list2)"
   ]
  },
  {
   "cell_type": "code",
   "execution_count": 6,
   "metadata": {},
   "outputs": [
    {
     "name": "stdout",
     "output_type": "stream",
     "text": [
      "Q#6\n",
      "not found\n"
     ]
    }
   ],
   "source": [
    "print(\"Q#6\")\n",
    "\n",
    "dict1 = {'key1':'python', 'key2':'course', 'key3':'for','key4':'Cisco'} \n",
    "if 'key8' in dict1:\n",
    "    print(\"found\")\n",
    "else:\n",
    "    print(\"not found\") \n",
    " "
   ]
  },
  {
   "cell_type": "code",
   "execution_count": null,
   "metadata": {},
   "outputs": [],
   "source": []
  }
 ],
 "metadata": {
  "kernelspec": {
   "display_name": "Python 3",
   "language": "python",
   "name": "python3"
  },
  "language_info": {
   "codemirror_mode": {
    "name": "ipython",
    "version": 3
   },
   "file_extension": ".py",
   "mimetype": "text/x-python",
   "name": "python",
   "nbconvert_exporter": "python",
   "pygments_lexer": "ipython3",
   "version": "3.7.4"
  }
 },
 "nbformat": 4,
 "nbformat_minor": 2
}
