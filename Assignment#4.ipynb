{
 "cells": [
  {
   "cell_type": "code",
   "execution_count": 1,
   "metadata": {},
   "outputs": [
    {
     "name": "stdout",
     "output_type": "stream",
     "text": [
      "Q#01\n",
      "Steve\n",
      "Watson\n",
      "27\n",
      "New York\n",
      "{'first_name': 'Steve', 'last_name': 'Watson', 'age': 27, 'city': 'New York', 'qualification': 'Bachelors'}\n",
      "{'first_name': 'Steve', 'last_name': 'Watson', 'age': 27, 'city': 'New York', 'qualification': 'Masters'}\n",
      "{'first_name': 'Steve', 'last_name': 'Watson', 'age': 27, 'city': 'New York'}\n"
     ]
    }
   ],
   "source": [
    "print(\"Q#01\")\n",
    "\n",
    "costumer1={\"first_name\":\"Steve\",\"last_name\":\"Watson\",\"age\":27,\"city\":\"New York\"}\n",
    "for each_value in costumer1.values():\n",
    "    print(each_value)\n",
    "costumer1[\"qualification\"]=\"Bachelors\"\n",
    "print(costumer1)\n",
    "costumer1[\"qualification\"]=\"Masters\"\n",
    "print(costumer1)\n",
    "del costumer1[\"qualification\"]\n",
    "print(costumer1)"
   ]
  },
  {
   "cell_type": "code",
   "execution_count": 2,
   "metadata": {},
   "outputs": [
    {
     "name": "stdout",
     "output_type": "stream",
     "text": [
      "Q#02\n",
      "Karachi:\n",
      "Pakistan\n",
      "14.91 million\n",
      "It is the Sixth largest city in the world by city population.\n",
      "Sydney:\n",
      "Austrlia\n",
      "5.23 million\n",
      " It is the 12th most expensive city with property prices averaging USD8,717 per square metre.\n",
      "Rio:\n",
      "Brazil\n",
      "6.32 million\n",
      "Rio de Janeiro has the world's bluest sky.\n"
     ]
    }
   ],
   "source": [
    "print(\"Q#02\")\n",
    "\n",
    "cities={\n",
    "    \"Karachi\":{\"Country\":\"Pakistan\",\"Population\":\"14.91 million\",\"Fact\":\"It is the Sixth largest city in the world by city population.\"},\n",
    "    \"Sydney\":{\"Country\":\"Austrlia\",\"Population\":\"5.23 million\",\"Fact\":\" It is the 12th most expensive city with property prices averaging USD8,717 per square metre.\"},\n",
    "    \"Rio\":{\"Country\":\"Brazil\",\"Population\":\"6.32 million\",\"Fact\":\"Rio de Janeiro has the world's bluest sky.\"}\n",
    "}\n",
    "for city in cities.keys():\n",
    "    print(city+\":\")\n",
    "    val=cities[city]\n",
    "    for n in val.values():\n",
    "        print(n)\n"
   ]
  },
  {
   "cell_type": "code",
   "execution_count": 4,
   "metadata": {},
   "outputs": [
    {
     "name": "stdout",
     "output_type": "stream",
     "text": [
      "Q#03\n",
      "Enter 0 to exit\n",
      "Enter age to generate price of tickets1\n",
      "ticket is free\n",
      "Enter age to generate price of tickets3\n",
      "Enter age to generate price of tickets0\n"
     ]
    }
   ],
   "source": [
    "print(\"Q#03\")\n",
    "\n",
    "print(\"Enter 0 to exit\")\n",
    "i=10\n",
    "while i>0:\n",
    "    i=int(input(\"Enter age to generate price of tickets\"))\n",
    "    if i<3 and i>0:\n",
    "        print(\"ticket is free\")\n",
    "    elif i>3 and i <12:\n",
    "        print(\"ticket is $10\")\n",
    "    elif i > 11:\n",
    "        print(\"ticket is $15\")\n",
    "    "
   ]
  },
  {
   "cell_type": "code",
   "execution_count": 5,
   "metadata": {},
   "outputs": [
    {
     "name": "stdout",
     "output_type": "stream",
     "text": [
      "Qno#4\n",
      "One of my favourite book is The Alchemist\n"
     ]
    }
   ],
   "source": [
    "print(\"Qno#4\")\n",
    "\n",
    "def favourite_book(title):\n",
    "    print(\"One of my favourite book is \"+title)\n",
    "\n",
    "favourite_book(\"The Alchemist\")"
   ]
  },
  {
   "cell_type": "code",
   "execution_count": 6,
   "metadata": {},
   "outputs": [
    {
     "name": "stdout",
     "output_type": "stream",
     "text": [
      "Qno#5\n",
      "Guess a number\n",
      "None6\n",
      "Number is low\n",
      "Guess a number\n",
      "None27\n",
      "Number is high\n",
      "Guess a number\n",
      "None17\n",
      "Number is high\n",
      "You Lose!\n"
     ]
    }
   ],
   "source": [
    "print(\"Qno#5\")\n",
    "\n",
    "import random\n",
    "gTaken=0\n",
    "number=random.randint(1,30)\n",
    "while gTaken<3:\n",
    "    gNumber=int(input(print(\"Guess a number\")))\n",
    "    gTaken=gTaken+1\n",
    "    if gNumber<number:\n",
    "        print(\"Number is low\")\n",
    "    elif gNumber>number:\n",
    "        print(\"Number is high\")\n",
    "    elif gNumber==number:\n",
    "        break\n",
    "if gNumber==number:\n",
    "    print(\"Congratulation! you guessed the number right in \"+str(gTaken)+\"guesses\")\n",
    "else:\n",
    "    print(\"You Lose!\")\n"
   ]
  },
  {
   "cell_type": "code",
   "execution_count": null,
   "metadata": {},
   "outputs": [],
   "source": []
  }
 ],
 "metadata": {
  "kernelspec": {
   "display_name": "Python 3",
   "language": "python",
   "name": "python3"
  },
  "language_info": {
   "codemirror_mode": {
    "name": "ipython",
    "version": 3
   },
   "file_extension": ".py",
   "mimetype": "text/x-python",
   "name": "python",
   "nbconvert_exporter": "python",
   "pygments_lexer": "ipython3",
   "version": "3.7.4"
  }
 },
 "nbformat": 4,
 "nbformat_minor": 2
}
