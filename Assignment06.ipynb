{
 "cells": [
  {
   "cell_type": "code",
   "execution_count": 15,
   "metadata": {},
   "outputs": [
    {
     "name": "stdout",
     "output_type": "stream",
     "text": [
      "OBJECT-ORIENTED PROGRAMMING:\n",
      "object oriented programming(OOP) is a programming methodology which is based on concept of \"objects\",\n",
      "which has attributes in the form of data fields and behaviour in the form of methods\n"
     ]
    }
   ],
   "source": [
    "print(\"OBJECT-ORIENTED PROGRAMMING:\")\n",
    "print(\"object oriented programming(OOP) is a programming methodology which is based on concept of \\\"objects\\\",\")\n",
    "print(\"which has attributes in the form of data fields and behaviour in the form of methods\")"
   ]
  },
  {
   "cell_type": "code",
   "execution_count": 11,
   "metadata": {},
   "outputs": [
    {
     "name": "stdout",
     "output_type": "stream",
     "text": [
      "1) A modular structure for defining defining data types and hiding thier implementation details.\n",
      "2) increases reusability using classes and objects which minimise the cost\n",
      "3) easy to maintain\n",
      "4) implementation of real life scenario\n",
      "5) objects, methods, instance, message passing, inheritance are some important properties provided by particular languages\n"
     ]
    }
   ],
   "source": [
    "print(\"1) A modular structure for defining defining data types and hiding thier implementation details.\")\n",
    "print(\"2) increases reusability using classes and objects which minimise the cost\")\n",
    "print(\"3) easy to maintain\")\n",
    "print(\"4) implementation of real life scenario\")\n",
    "print(\"5) objects, methods, instance, message passing, inheritance are some important properties provided by particular languages\")\n"
   ]
  },
  {
   "cell_type": "code",
   "execution_count": 12,
   "metadata": {},
   "outputs": [
    {
     "name": "stdout",
     "output_type": "stream",
     "text": [
      "FUNCTION: a function is group of reusable code which can be called anywhere in the program.\n",
      "METHOD: method is a procedure or behaviour (function) of an object in object-oriented programming.\n"
     ]
    }
   ],
   "source": [
    "print(\"FUNCTION: a function is group of reusable code which can be called anywhere in the program.\")\n",
    "print(\"METHOD: method is a procedure or behaviour (function) of an object in object-oriented programming.\")"
   ]
  },
  {
   "cell_type": "code",
   "execution_count": 13,
   "metadata": {},
   "outputs": [
    {
     "name": "stdout",
     "output_type": "stream",
     "text": [
      "CLASS: class is referred as a blueprint for objects having the attributes and behaviour of the object.\n",
      "OBJECT: object is an instance of a particular class having properties and functionalities of it's own.\n",
      "ATTRIBUTES: attributes are properties defined in a class for objects to store thier information (data types)\n",
      "BEHAVIOUR: behaviour of a specific instance (object or class) is, how it will react if it is asked to do something.\n"
     ]
    }
   ],
   "source": [
    "print(\"CLASS: class is referred as a blueprint for objects having the attributes and behaviour of the object.\")\n",
    "print(\"OBJECT: object is an instance of a particular class having properties and functionalities of it's own.\")\n",
    "print(\"ATTRIBUTES: attributes are properties defined in a class for objects to store thier information (data types)\")\n",
    "print(\"BEHAVIOUR: behaviour of a specific instance (object or class) is, how it will react if it is asked to do something.\")"
   ]
  },
  {
   "cell_type": "code",
   "execution_count": 44,
   "metadata": {},
   "outputs": [
    {
     "name": "stdout",
     "output_type": "stream",
     "text": [
      "model: BMW, color: black, name: i8, mileage: 47.45 kmpl, year: 2015\n",
      "model: Toyota, color: green, name: corolla, mileage: 28 mpg, year: 2019\n",
      "model: Honda, color: white, name: civic, mileage: 26.8 kmpl, year: 2019\n",
      "model: Rolce Royce, color: Anthracite, name: phantom, mileage: 12 mpg, year: 2019\n",
      "model: Audi, color: metallic, name: a4, mileage: 16 mpg, year: 2015\n",
      "i8 is driven at 47.45 kmpl\n",
      "corolla's green color is changed to Pink\n",
      "model: Toyota, color: Pink, name: corolla, mileage: 28 mpg, year: 2019\n",
      "a4's metallic color is changed to Red\n",
      "model: Audi, color: Red, name: a4, mileage: 16 mpg, year: 2015\n"
     ]
    }
   ],
   "source": [
    "class car():\n",
    "    def __init__(self,model,color,name,mileAge,year):\n",
    "        self.name=name\n",
    "        self.model=model\n",
    "        self.color=color\n",
    "        self.mileAge=mileAge\n",
    "        self.year=year\n",
    "    def drive(self):\n",
    "        print(self.name+\" is driven at \"+self.mileAge)\n",
    "        \n",
    "    def fuleUp(self):\n",
    "        print(self.name+\" is fuled up.\")\n",
    "    def changeColor(self,color):\n",
    "        print(self.name+\"'s \"+self.color+\" color is changed to \"+color)\n",
    "        self.color=color\n",
    "    def showDetails(self):\n",
    "        print(\"model: \"+self.model+\", color: \"+self.color+\", name: \"+self.name+\", mileage: \"+self.mileAge+\", year: \"+str(self.year))\n",
    "car1=car(\"BMW\",\"black\",\"i8\",\"47.45 kmpl\",2015)\n",
    "car2=car(\"Toyota\",\"green\",\"corolla\", \"28 mpg\", 2019)\n",
    "car3=car(\"Honda\",\"white\",\"civic\", \"26.8 kmpl\", 2019)\n",
    "car4=car(\"Rolce Royce\",\"Anthracite\",\"phantom\",\"12 mpg\",2019)\n",
    "car5=car(\"Audi\",\"metallic\",\"a4\",\"16 mpg\",2015)\n",
    "car1.showDetails()\n",
    "car2.showDetails()\n",
    "car3.showDetails()\n",
    "car4.showDetails()\n",
    "car5.showDetails()\n",
    "car1.drive()\n",
    "car2.changeColor(\"Pink\")\n",
    "car2.showDetails()\n",
    "car5.changeColor(\"Red\")\n",
    "car5.showDetails()\n"
   ]
  },
  {
   "cell_type": "code",
   "execution_count": null,
   "metadata": {},
   "outputs": [],
   "source": []
  },
  {
   "cell_type": "code",
   "execution_count": null,
   "metadata": {},
   "outputs": [],
   "source": []
  }
 ],
 "metadata": {
  "kernelspec": {
   "display_name": "Python 3",
   "language": "python",
   "name": "python3"
  },
  "language_info": {
   "codemirror_mode": {
    "name": "ipython",
    "version": 3
   },
   "file_extension": ".py",
   "mimetype": "text/x-python",
   "name": "python",
   "nbconvert_exporter": "python",
   "pygments_lexer": "ipython3",
   "version": "3.7.1"
  }
 },
 "nbformat": 4,
 "nbformat_minor": 2
}
