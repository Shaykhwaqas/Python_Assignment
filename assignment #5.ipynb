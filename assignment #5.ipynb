{
 "cells": [
  {
   "cell_type": "code",
   "execution_count": 1,
   "metadata": {},
   "outputs": [
    {
     "name": "stdout",
     "output_type": "stream",
     "text": [
      "24\n"
     ]
    }
   ],
   "source": [
    "#factorial program\n",
    "def factorial(num):\n",
    "    ans = 1\n",
    "    if num < 0: \n",
    "        print(\"The given number is negative\")    \n",
    "    elif num == 0:\n",
    "        print(\"The factorial is 1\")\n",
    "    else:\n",
    "        for i in range(1,num + 1):\n",
    "            ans = ans * i\n",
    "        print(ans)\n",
    "factorial(4)\n",
    "    \n"
   ]
  },
  {
   "cell_type": "code",
   "execution_count": 2,
   "metadata": {},
   "outputs": [
    {
     "name": "stdout",
     "output_type": "stream",
     "text": [
      "upper case are 1\n",
      "lower case are 2\n"
     ]
    }
   ],
   "source": [
    "#string upper case and lower case\n",
    "def case_test(string):\n",
    "    case_upper = 0\n",
    "    case_lower = 0\n",
    "    for i in string: \n",
    "        if i.isupper():\n",
    "            case_upper += 1            \n",
    "        if i.islower():\n",
    "            case_lower += 1\n",
    "    print(\"upper case are \" + str(case_upper))            \n",
    "    print(\"lower case are \" + str(case_lower))\n",
    "            \n",
    "case_test(\"Ali\")"
   ]
  },
  {
   "cell_type": "code",
   "execution_count": 6,
   "metadata": {},
   "outputs": [
    {
     "name": "stdout",
     "output_type": "stream",
     "text": [
      "these are the even no list: [2, 6, 8, 12, 22, 44]\n"
     ]
    }
   ],
   "source": [
    "#cehck even no\n",
    "num_list = [2,3,5,6,7,8,12,22,33,44]\n",
    "even_list = []\n",
    "def even(num):\n",
    "    for i in num:\n",
    "        if i % 2 == 0:\n",
    "            even_list.append(i)\n",
    "    print(\"these are the even no list:\", even_list)\n",
    "even(num_list)\n",
    "            \n",
    "            "
   ]
  },
  {
   "cell_type": "code",
   "execution_count": 4,
   "metadata": {},
   "outputs": [
    {
     "name": "stdout",
     "output_type": "stream",
     "text": [
      "The given word is a Palindrome: madam\n"
     ]
    }
   ],
   "source": [
    "# the given string is palindrome \n",
    "def invers(word):\n",
    "    i = len(word)-1\n",
    "    reverse_word =''\n",
    "    while i > -1:\n",
    "        reverse_word += word[i]\n",
    "        i -= 1\n",
    "    return reverse_word\n",
    "\n",
    "def check_Palindrome(word):\n",
    "    check_word = ''\n",
    "    check_word = invers(word)\n",
    "    if check_word == word:\n",
    "        print('The given word is a Palindrome:', word)\n",
    "    else:\n",
    "        print('The given word is not Palindrome:', word)\n",
    "check_Palindrome('madam')"
   ]
  },
  {
   "cell_type": "code",
   "execution_count": 5,
   "metadata": {},
   "outputs": [
    {
     "name": "stdout",
     "output_type": "stream",
     "text": [
      "The number is Prime\n",
      "The number is not Prime\n",
      "2 times 6 is 12\n"
     ]
    }
   ],
   "source": [
    "#The given no is prime or not\n",
    "def prime(num):\n",
    "    if num>1:\n",
    "        for i in range(2,num):\n",
    "            if (num % i) == 0:\n",
    "                print('The number is not Prime')\n",
    "                print(i,\"times\",num//i,\"is\",num) \n",
    "                break\n",
    "        else:\n",
    "            print(\"The number is Prime\")\n",
    "    \n",
    "prime(2)\n",
    "prime(12)  "
   ]
  },
  {
   "cell_type": "code",
   "execution_count": null,
   "metadata": {},
   "outputs": [],
   "source": [
    "def shopping_list(*args): \n",
    "    for shoping in args:\n",
    "       print(shoping)\n",
    "shopping_list(\"alo\", \"tamatar\", \"adrak\")"
   ]
  }
 ],
 "metadata": {
  "kernelspec": {
   "display_name": "Python 3",
   "language": "python",
   "name": "python3"
  },
  "language_info": {
   "codemirror_mode": {
    "name": "ipython",
    "version": 3
   },
   "file_extension": ".py",
   "mimetype": "text/x-python",
   "name": "python",
   "nbconvert_exporter": "python",
   "pygments_lexer": "ipython3",
   "version": "3.7.4"
  }
 },
 "nbformat": 4,
 "nbformat_minor": 2
}
